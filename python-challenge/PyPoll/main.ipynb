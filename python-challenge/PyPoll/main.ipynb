{
 "cells": [
  {
   "cell_type": "code",
   "execution_count": 1,
   "id": "f74f3dea",
   "metadata": {},
   "outputs": [],
   "source": [
    "# import pandas and os\n",
    "import pandas as pd\n",
    "\n",
    "# read data into pandas dataframe\n",
    "election_df = pd.read_csv('/Users/nels.jacobson2/Desktop/Analytics_Class_Folder/031323/python-challenge/PyPoll/Resources/election_data.csv')\n",
    "election_df.head()\n",
    "\n",
    "# get total number of votes\n",
    "total_votes = len(election_df)\n",
    "\n",
    "# get list of candidates who received votes\n",
    "candidates = election_df[\"Candidate\"].unique()\n",
    "\n",
    "# calculate percentage of votes and total number of votes per candidate\n",
    "votes_by_candidate = election_df[\"Candidate\"].value_counts()\n",
    "vote_percentages = votes_by_candidate / total_votes * 100\n",
    "\n",
    "# determine who won\n",
    "winner = votes_by_candidate.index[0]\n",
    "\n",
    "#print who won\n",
    "print(\"Election Results\")\n",
    "print(\"-------------------------\")\n",
    "print(f\"Total Votes: {total_votes}\")\n",
    "print(\"-------------------------\")\n",
    "for candidate in candidates:\n",
    "    print(f\"{candidate}: {vote_percentages[candidate]:.3f}% ({votes_by_candidate[candidate]})\")\n",
    "print(\"-------------------------\")\n",
    "print(f\"Winner: {winner}\")\n",
    "print(\"-------------------------\")\n",
    "\n",
    "\n",
    "#write results to analysis folder\n",
    "output_file_path = \"/Users/nels.jacobson2/Desktop/Analytics_Class_Folder/031323/python-challenge/PyPoll/Analysis/election_analysis.txt\"\n",
    "with open(output_file_path, \"w\") as file:\n",
    "    file.write(\"Election Results\\n\")\n",
    "    file.write(\"-------------------------\\n\")\n",
    "    file.write(f\"Total Votes: {total_votes}\\n\")\n",
    "    file.write(\"-------------------------\\n\")\n",
    "    for candidate in candidates:\n",
    "        file.write(f\"{candidate}: {vote_percentages[candidate]:.3f}% ({votes_by_candidate[candidate]})\\n\")\n",
    "    file.write(\"-------------------------\\n\")\n",
    "    file.write(f\"Winner: {winner}\\n\")\n",
    "    file.write(\"-------------------------\\n\")\n"
   ]
  }
 ],
 "metadata": {
  "kernelspec": {
   "display_name": "Python 3 (ipykernel)",
   "language": "python",
   "name": "python3"
  },
  "language_info": {
   "codemirror_mode": {
    "name": "ipython",
    "version": 3
   },
   "file_extension": ".py",
   "mimetype": "text/x-python",
   "name": "python",
   "nbconvert_exporter": "python",
   "pygments_lexer": "ipython3",
   "version": "3.9.13"
  }
 },
 "nbformat": 4,
 "nbformat_minor": 5
}
